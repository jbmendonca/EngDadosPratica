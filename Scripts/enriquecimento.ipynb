{
 "cells": [
  {
   "cell_type": "code",
   "execution_count": null,
   "metadata": {},
   "outputs": [],
   "source": [
    "import duckdb\n"
   ]
  },
  {
   "cell_type": "code",
   "execution_count": null,
   "metadata": {},
   "outputs": [],
   "source": [
    "con = duckdb.connect(database='dados_duckdb.db', read_only=False)"
   ]
  },
  {
   "cell_type": "code",
   "execution_count": null,
   "metadata": {},
   "outputs": [],
   "source": [
    "df = con.execute(\"\"\"\n",
    "                SELECT *\n",
    "                FROM (\n",
    "                    SELECT *, ROW_NUMBER() OVER(PARTITION BY NATBR ORDER BY data_ingestao DESC) AS row\n",
    "                    FROM bronze_z0019JB\n",
    "                    WHERE data_ingestao >= '2025-03-30'\n",
    "                ) AS t\n",
    "                WHERE row = 1\n",
    "                \"\"\").fetchdf()\n",
    "df.head()"
   ]
  },
  {
   "cell_type": "code",
   "execution_count": null,
   "metadata": {},
   "outputs": [],
   "source": [
    "df_final = df.drop(columns=['nome_arquivo', 'data_ingestao', 'row'])\n",
    "df_final = df_final.rename(columns={\"NATBR\": \"id\"})\n",
    "df_final = df_final.rename(columns={\"MAKTX\":\"nm_produto\"})\n",
    "df_final = df_final.rename(columns={\"WERKS\":\"id_categoria\"})\n",
    "df_final = df_final.rename(columns={\"MAINS\":\"id_fornecedor\"})\n",
    "df_final = df_final.rename(columns={\"LABST\": \"vl_preco\"})\n",
    "df_final.head(10)\n",
    "#df_final.dtypes"
   ]
  },
  {
   "cell_type": "code",
   "execution_count": null,
   "metadata": {},
   "outputs": [],
   "source": [
    "df_final.dtypes"
   ]
  },
  {
   "cell_type": "code",
   "execution_count": null,
   "metadata": {},
   "outputs": [],
   "source": [
    "df2 = df_final\n",
    "df2 = df2.astype({\"id_categoria\": \"string\"})\n",
    "df2 = df2.astype({\"id_fornecedor\": \"int32\"})\n",
    "df2 = df2.astype({\"vl_preco\": \"float64\"})\n",
    "df2 = df2.astype({\"nm_produto\": \"string\"})\n",
    "df2 = df2.astype({\"id\": \"int32\"})\n",
    "df2.head(10)"
   ]
  },
  {
   "cell_type": "code",
   "execution_count": null,
   "metadata": {},
   "outputs": [],
   "source": [
    "\n",
    "# Verificar as colunas existentes no DataFrame\n",
    "print(\"Colunas disponíveis no DataFrame:\", df2.columns)\n",
    "\n",
    "# Verificar se a coluna 'id' existe\n",
    "if 'id' in df2.columns:\n",
    "    # Alterar o tipo da coluna se ela existir\n",
    "    df2 = df2.astype({\"id\": int})\n",
    "else:\n",
    "    print(\"A coluna 'id' não existe no DataFrame.\")\n",
    "    # Opcional: Criar a coluna 'id' se necessário\n",
    "    # df2['id'] = 0  # Exemplo: criar a coluna com valores padrão\n",
    "\n",
    "\n",
    "#df2.dtypes\n"
   ]
  },
  {
   "cell_type": "code",
   "execution_count": null,
   "metadata": {},
   "outputs": [],
   "source": [
    "con.execute(\"\"\"\n",
    "CREATE TABLE IF NOT EXISTS produtos (\n",
    "    id BIGINT,\n",
    "    nm_produto TEXT,\n",
    "    id_categoria TEXT,\n",
    "    id_fornecedor BIGINT,\n",
    "    vl_preco FLOAT\n",
    ")\n",
    "\"\"\")\n"
   ]
  },
  {
   "cell_type": "code",
   "execution_count": null,
   "metadata": {},
   "outputs": [],
   "source": [
    "con.execute(\"INSERT INTO produtos SELECT * FROM df2\")"
   ]
  },
  {
   "cell_type": "code",
   "execution_count": null,
   "metadata": {},
   "outputs": [],
   "source": [
    "df_resultado = con.execute(\"SELECT * FROM produtos\").fetchdf()\n",
    "df_resultado.head(10)"
   ]
  },
  {
   "cell_type": "code",
   "execution_count": null,
   "metadata": {},
   "outputs": [],
   "source": [
    "con.close()"
   ]
  }
 ],
 "metadata": {
  "kernelspec": {
   "display_name": "Python 3",
   "language": "python",
   "name": "python3"
  },
  "language_info": {
   "codemirror_mode": {
    "name": "ipython",
    "version": 3
   },
   "file_extension": ".py",
   "mimetype": "text/x-python",
   "name": "python",
   "nbconvert_exporter": "python",
   "pygments_lexer": "ipython3",
   "version": "3.13.1"
  }
 },
 "nbformat": 4,
 "nbformat_minor": 2
}
