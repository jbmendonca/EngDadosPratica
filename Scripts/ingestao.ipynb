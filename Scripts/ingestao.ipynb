{
 "cells": [
  {
   "cell_type": "code",
   "execution_count": 2,
   "metadata": {},
   "outputs": [],
   "source": [
    "import duckdb\n",
    "import pandas as pd\n",
    "import os\n",
    "from datetime import datetime"
   ]
  },
  {
   "cell_type": "code",
   "execution_count": 3,
   "metadata": {},
   "outputs": [
    {
     "ename": "IOException",
     "evalue": "IO Error: File is already open in \nC:\\Users\\batis\\AppData\\Local\\Programs\\Python\\Python313\\python.exe (PID 20964)",
     "output_type": "error",
     "traceback": [
      "\u001b[31m---------------------------------------------------------------------------\u001b[39m",
      "\u001b[31mIOException\u001b[39m                               Traceback (most recent call last)",
      "\u001b[36mCell\u001b[39m\u001b[36m \u001b[39m\u001b[32mIn[3]\u001b[39m\u001b[32m, line 1\u001b[39m\n\u001b[32m----> \u001b[39m\u001b[32m1\u001b[39m con = \u001b[43mduckdb\u001b[49m\u001b[43m.\u001b[49m\u001b[43mconnect\u001b[49m\u001b[43m(\u001b[49m\u001b[43mdatabase\u001b[49m\u001b[43m=\u001b[49m\u001b[33;43m'\u001b[39;49m\u001b[33;43mdados_duckdb.db\u001b[39;49m\u001b[33;43m'\u001b[39;49m\u001b[43m,\u001b[49m\u001b[43m \u001b[49m\u001b[43mread_only\u001b[49m\u001b[43m=\u001b[49m\u001b[38;5;28;43;01mFalse\u001b[39;49;00m\u001b[43m)\u001b[49m\n",
      "\u001b[31mIOException\u001b[39m: IO Error: File is already open in \nC:\\Users\\batis\\AppData\\Local\\Programs\\Python\\Python313\\python.exe (PID 20964)"
     ]
    }
   ],
   "source": [
    "con = duckdb.connect(database='dados_duckdb.db', read_only=False)"
   ]
  },
  {
   "cell_type": "code",
   "execution_count": 4,
   "metadata": {},
   "outputs": [
    {
     "data": {
      "text/html": [
       "<div>\n",
       "<style scoped>\n",
       "    .dataframe tbody tr th:only-of-type {\n",
       "        vertical-align: middle;\n",
       "    }\n",
       "\n",
       "    .dataframe tbody tr th {\n",
       "        vertical-align: top;\n",
       "    }\n",
       "\n",
       "    .dataframe thead th {\n",
       "        text-align: right;\n",
       "    }\n",
       "</style>\n",
       "<table border=\"1\" class=\"dataframe\">\n",
       "  <thead>\n",
       "    <tr style=\"text-align: right;\">\n",
       "      <th></th>\n",
       "      <th>NATBR</th>\n",
       "      <th>MAKTX</th>\n",
       "      <th>WERKS</th>\n",
       "      <th>MAIN</th>\n",
       "      <th>LABST</th>\n",
       "      <th>arquivo</th>\n",
       "      <th>data_ingestao</th>\n",
       "    </tr>\n",
       "  </thead>\n",
       "  <tbody>\n",
       "    <tr>\n",
       "      <th>0</th>\n",
       "      <td>1001</td>\n",
       "      <td>PARAFUSO</td>\n",
       "      <td>BT10</td>\n",
       "      <td>100</td>\n",
       "      <td>100</td>\n",
       "      <td>z0019_1.csv</td>\n",
       "      <td>2025-03-29 06:12:52.910906</td>\n",
       "    </tr>\n",
       "    <tr>\n",
       "      <th>1</th>\n",
       "      <td>1002</td>\n",
       "      <td>PARAFUSO</td>\n",
       "      <td>BT20</td>\n",
       "      <td>200</td>\n",
       "      <td>200</td>\n",
       "      <td>z0019_1.csv</td>\n",
       "      <td>2025-03-29 06:12:52.910906</td>\n",
       "    </tr>\n",
       "    <tr>\n",
       "      <th>2</th>\n",
       "      <td>1003</td>\n",
       "      <td>MARTELO</td>\n",
       "      <td>BT10</td>\n",
       "      <td>100</td>\n",
       "      <td>100</td>\n",
       "      <td>z0019_1.csv</td>\n",
       "      <td>2025-03-29 06:12:52.910906</td>\n",
       "    </tr>\n",
       "    <tr>\n",
       "      <th>3</th>\n",
       "      <td>1004</td>\n",
       "      <td>MARTELO</td>\n",
       "      <td>BT20</td>\n",
       "      <td>200</td>\n",
       "      <td>200</td>\n",
       "      <td>z0019_1.csv</td>\n",
       "      <td>2025-03-29 06:12:52.910906</td>\n",
       "    </tr>\n",
       "    <tr>\n",
       "      <th>4</th>\n",
       "      <td>1003</td>\n",
       "      <td>PORCA SEXTAVADA</td>\n",
       "      <td>BT30</td>\n",
       "      <td>150</td>\n",
       "      <td>150</td>\n",
       "      <td>z0019_1.csv</td>\n",
       "      <td>2025-03-29 06:12:52.910906</td>\n",
       "    </tr>\n",
       "  </tbody>\n",
       "</table>\n",
       "</div>"
      ],
      "text/plain": [
       "   NATBR            MAKTX WERKS  MAIN  LABST      arquivo  \\\n",
       "0   1001         PARAFUSO  BT10   100    100  z0019_1.csv   \n",
       "1   1002         PARAFUSO  BT20   200    200  z0019_1.csv   \n",
       "2   1003          MARTELO  BT10   100    100  z0019_1.csv   \n",
       "3   1004          MARTELO  BT20   200    200  z0019_1.csv   \n",
       "4   1003  PORCA SEXTAVADA  BT30   150    150  z0019_1.csv   \n",
       "\n",
       "               data_ingestao  \n",
       "0 2025-03-29 06:12:52.910906  \n",
       "1 2025-03-29 06:12:52.910906  \n",
       "2 2025-03-29 06:12:52.910906  \n",
       "3 2025-03-29 06:12:52.910906  \n",
       "4 2025-03-29 06:12:52.910906  "
      ]
     },
     "execution_count": 4,
     "metadata": {},
     "output_type": "execute_result"
    }
   ],
   "source": [
    "arquivo = 'z0019_1.csv'\n",
    "data_ingestao = datetime.now()\n",
    "df = pd.read_csv(f'../landing/{arquivo}', sep=';')\n",
    "df['arquivo'] = arquivo\n",
    "df['data_ingestao'] = data_ingestao\n",
    "\n",
    "df.head()"
   ]
  },
  {
   "cell_type": "code",
   "execution_count": 6,
   "metadata": {},
   "outputs": [
    {
     "ename": "NameError",
     "evalue": "name 'con' is not defined",
     "output_type": "error",
     "traceback": [
      "\u001b[31m---------------------------------------------------------------------------\u001b[39m",
      "\u001b[31mNameError\u001b[39m                                 Traceback (most recent call last)",
      "\u001b[36mCell\u001b[39m\u001b[36m \u001b[39m\u001b[32mIn[6]\u001b[39m\u001b[32m, line 1\u001b[39m\n\u001b[32m----> \u001b[39m\u001b[32m1\u001b[39m \u001b[43mcon\u001b[49m.execute(\u001b[33m\"\"\"\u001b[39m\n\u001b[32m      2\u001b[39m \u001b[33mCREATE TABLE IF NOT EXISTS bronze_produtos (\u001b[39m\n\u001b[32m      3\u001b[39m \u001b[33m            NATBR      VARCHAR,\u001b[39m\n\u001b[32m      4\u001b[39m \u001b[33m            MAKTX      VARCHAR,\u001b[39m\n\u001b[32m      5\u001b[39m \u001b[33m            WERKS      VARCHAR,\u001b[39m\n\u001b[32m      6\u001b[39m \u001b[33m            MAINS     VARCHAR,\u001b[39m\n\u001b[32m      7\u001b[39m \u001b[33m            LABST     VARCHAR,\u001b[39m\n\u001b[32m      8\u001b[39m \u001b[33m            nome_arquivo VARCHAR,\u001b[39m\n\u001b[32m      9\u001b[39m \u001b[33m            data_ingestao TIMESTAMP\u001b[39m\n\u001b[32m     10\u001b[39m \u001b[33m            )\u001b[39m\n\u001b[32m     11\u001b[39m \u001b[33m            \u001b[39m\u001b[33m\"\"\"\u001b[39m)\n",
      "\u001b[31mNameError\u001b[39m: name 'con' is not defined"
     ]
    }
   ],
   "source": [
    "con.execute(\"\"\"\n",
    "CREATE TABLE IF NOT EXISTS bronze_produtos (\n",
    "            NATBR      VARCHAR,\n",
    "            MAKTX      VARCHAR,\n",
    "            WERKS      VARCHAR,\n",
    "            MAINS     VARCHAR,\n",
    "            LABST     VARCHAR,\n",
    "            nome_arquivo VARCHAR,\n",
    "            data_ingestao TIMESTAMP\n",
    "            )\n",
    "            \"\"\")"
   ]
  },
  {
   "cell_type": "code",
   "execution_count": 5,
   "metadata": {},
   "outputs": [
    {
     "ename": "NameError",
     "evalue": "name 'con' is not defined",
     "output_type": "error",
     "traceback": [
      "\u001b[31m---------------------------------------------------------------------------\u001b[39m",
      "\u001b[31mNameError\u001b[39m                                 Traceback (most recent call last)",
      "\u001b[36mCell\u001b[39m\u001b[36m \u001b[39m\u001b[32mIn[5]\u001b[39m\u001b[32m, line 1\u001b[39m\n\u001b[32m----> \u001b[39m\u001b[32m1\u001b[39m resultado = \u001b[43mcon\u001b[49m.execute(\u001b[33m\"\u001b[39m\u001b[33mSELECT * FROM bronze_z0019\u001b[39m\u001b[33m\"\u001b[39m).fetchdf()\n\u001b[32m      2\u001b[39m \u001b[38;5;28mprint\u001b[39m(resultado.head(\u001b[32m40\u001b[39m))\n",
      "\u001b[31mNameError\u001b[39m: name 'con' is not defined"
     ]
    }
   ],
   "source": [
    "resultado = con.execute(\"SELECT * FROM bronze_z0019\").fetchdf()\n",
    "print(resultado.head(40))"
   ]
  },
  {
   "cell_type": "code",
   "execution_count": null,
   "metadata": {},
   "outputs": [
    {
     "data": {
      "text/plain": [
       "<duckdb.duckdb.DuckDBPyConnection at 0x1d890857130>"
      ]
     },
     "execution_count": 45,
     "metadata": {},
     "output_type": "execute_result"
    }
   ],
   "source": [
    "con.execute(\"ALTER TABLE bronze_produtos RENAME TO bronze_z0019\")"
   ]
  },
  {
   "cell_type": "code",
   "execution_count": null,
   "metadata": {},
   "outputs": [
    {
     "data": {
      "text/plain": [
       "<duckdb.duckdb.DuckDBPyConnection at 0x1d890857130>"
      ]
     },
     "execution_count": 49,
     "metadata": {},
     "output_type": "execute_result"
    }
   ],
   "source": [
    "con.execute(\"INSERT INTO bronze_z0019 SELECT * FROM df\")\n"
   ]
  },
  {
   "cell_type": "code",
   "execution_count": null,
   "metadata": {},
   "outputs": [],
   "source": [
    "con.close()"
   ]
  }
 ],
 "metadata": {
  "kernelspec": {
   "display_name": "Python 3",
   "language": "python",
   "name": "python3"
  },
  "language_info": {
   "codemirror_mode": {
    "name": "ipython",
    "version": 3
   },
   "file_extension": ".py",
   "mimetype": "text/x-python",
   "name": "python",
   "nbconvert_exporter": "python",
   "pygments_lexer": "ipython3",
   "version": "3.13.1"
  }
 },
 "nbformat": 4,
 "nbformat_minor": 2
}
